{
 "cells": [
  {
   "cell_type": "markdown",
   "id": "cbe9e2a1",
   "metadata": {},
   "source": [
    "## Metrics plots generator\n",
    "\n",
    "This notebook is used to generate plots to show the performance of methods.\n"
   ]
  },
  {
   "cell_type": "code",
   "execution_count": null,
   "id": "0f700b12",
   "metadata": {},
   "outputs": [],
   "source": [
    "import numpy as np\n",
    "import pandas as pd\n",
    "import seaborn as sns\n",
    "import matplotlib.pyplot as plt\n",
    "import os\n",
    "os.chdir(\"..\")\n",
    "np.set_printoptions(precision=2)"
   ]
  },
  {
   "cell_type": "code",
   "execution_count": null,
   "id": "1d60ac2e",
   "metadata": {},
   "outputs": [],
   "source": [
    "#SETUP\n",
    "parsed_annotation = \"final_annotation.json\" # relative path to the parsed annotation file\n"
   ]
  },
  {
   "cell_type": "code",
   "execution_count": null,
   "id": "9a430747",
   "metadata": {},
   "outputs": [],
   "source": [
    "with open(parsed_annotation, \"r\", encoding=\"utf8\") as f:\n",
    "    df = pd.read_json(f)"
   ]
  },
  {
   "cell_type": "code",
   "execution_count": null,
   "id": "26938af2",
   "metadata": {},
   "outputs": [],
   "source": [
    "\n",
    "# Creates two additional columns in the df for future computation\n",
    "df.loc[df[\"prompt\"] != -1, \"min_age\"] = df.loc[df[\"prompt\"] != -1, \"year_of_photo_int\"] - df.loc[df[\"prompt\"] != -1, \"birth_year\"]\n",
    "df.loc[df[\"prompt\"] != -1, \"max_age\"] = df.loc[df[\"prompt\"] != -1, \"year_of_photo_int\"] - df.loc[df[\"prompt\"] != -1, \"birth_year\"]\n",
    "\n",
    "df.loc[df[\"prompt\"] == -1, \"min_age\"] = df.loc[df[\"prompt\"] == -1, \"left_photo_year\"] - df.loc[df[\"prompt\"] == -1, \"birth_year\"]\n",
    "df.loc[df[\"prompt\"] == -1, \"max_age\"] = df.loc[df[\"prompt\"] == -1, \"right_photo_year\"] - df.loc[df[\"prompt\"] == -1, \"birth_year\"]\n"
   ]
  },
  {
   "cell_type": "code",
   "execution_count": null,
   "id": "a187dafc",
   "metadata": {},
   "outputs": [],
   "source": [
    "df.head()"
   ]
  },
  {
   "cell_type": "code",
   "execution_count": null,
   "id": "24db4bad",
   "metadata": {},
   "outputs": [],
   "source": [
    "months = [\"January\",\n",
    "          \"February\",\n",
    "          \"March\",\n",
    "          \"April\",\n",
    "          \"May\",\n",
    "          \"June\",\n",
    "          \"July\",\n",
    "          \"August\",\n",
    "          \"Sepember\",\n",
    "          \"October\",\n",
    "          \"November\",\n",
    "          \"December\"]\n",
    "prompts = [f\"{i}\" for i in range(6)]\n",
    "models = [\"deepseek-r1\",\n",
    "          \"deepseek-r1-llama-8B\",\n",
    "          \"deepseek-r1-qwen-7B\",\n",
    "          \"deepseek-r1-qwen-14B\",\n",
    "          \"deepseek-r1-qwen-32B\",\n",
    "          \"llama3-3\"]"
   ]
  },
  {
   "cell_type": "code",
   "execution_count": null,
   "id": "425b918c",
   "metadata": {},
   "outputs": [],
   "source": [
    "def make_heatmap(df_matrix, title, show = True):\n",
    "    plt.figure(figsize=(8, 6))\n",
    "    sns.heatmap(df_matrix, annot=True, fmt=\".2f\", cmap='viridis')\n",
    "    plt.title(title)\n",
    "    plt.ylabel(\"Model\")\n",
    "    plt.xlabel(\"Prompt\")\n",
    "    plt.tight_layout()\n",
    "    if show:\n",
    "        plt.show()\n",
    "\n",
    "def make_comparisson_heatmap(data1 : pd.DataFrame, data2 : pd.DataFrame, title1 : str, title2 : str):\n",
    "    vmin = min(data1.values.min(), data2.values.min())\n",
    "    vmax = max(data1.values.max(), data2.values.max())\n",
    "    fig, axes = plt.subplots(1, 2, figsize=(12, 5))\n",
    "    sns.heatmap(data1, ax = axes[0], annot=True, fmt=\".2f\", cmap='viridis', cbar=False, vmin = vmin, vmax = vmax)\n",
    "    axes[0].set_title(title1)\n",
    "    axes[0].set_ylabel(\"Model\")\n",
    "    axes[0].set_xlabel(\"Prompt\")\n",
    "    axes[0].set_aspect('equal')\n",
    "\n",
    "    sns.heatmap((data2).to_numpy(), ax = axes[1], annot=True, fmt=\".2f\", cmap='viridis', vmin = vmin, vmax = vmax)\n",
    "    axes[1].set_title(title2)\n",
    "    axes[1].set_xlabel(\"Prompt\")\n",
    "    axes[1].set_aspect('equal')\n",
    "    axes[1].tick_params(left=False, labelleft=False)\n",
    "    plt.tight_layout()\n",
    "    plt.show()"
   ]
  },
  {
   "cell_type": "code",
   "execution_count": null,
   "id": "51527252",
   "metadata": {},
   "outputs": [],
   "source": [
    "def get_prompt_groups(datf):\n",
    "    return [datf[datf[\"prompt\"] == i] for i in range(6)]\n",
    "\n",
    "def get_ground_truth(datf):\n",
    "    return datf[datf[\"prompt\"] == -1]\n",
    "\n",
    "def get_human_paths(datf):\n",
    "    return datf[datf[\"prompt\"] == -1][\"path\"].unique()"
   ]
  },
  {
   "cell_type": "markdown",
   "id": "dfa438fe",
   "metadata": {},
   "source": [
    "## Model coverage"
   ]
  },
  {
   "cell_type": "code",
   "execution_count": null,
   "id": "07edd7f3",
   "metadata": {},
   "outputs": [],
   "source": [
    "%matplotlib qt"
   ]
  },
  {
   "cell_type": "code",
   "execution_count": null,
   "id": "6fa208ce",
   "metadata": {},
   "outputs": [],
   "source": [
    "\n",
    "conf_mat = np.zeros((6,6))\n",
    "for i in range(6):\n",
    "    for j in range(6):\n",
    "        conf_mat[i, j] = df[(df[\"model\"] == models[i]) & (df[\"prompt\"] == j)][\"can_determine\"].mean()\n",
    "\n",
    "\n",
    "coverage = pd.DataFrame(conf_mat, index=models, columns=prompts)\n",
    "\n",
    "make_heatmap(coverage, \"coverage\")\n",
    "print(f\"Model-wise confidence: {conf_mat.mean(axis=1)}\")\n",
    "print(f\"Prompt-wise confidence: {conf_mat.mean(axis=0)}\")\n"
   ]
  },
  {
   "cell_type": "markdown",
   "id": "70e18669",
   "metadata": {},
   "source": [
    "## Accuracy testing"
   ]
  },
  {
   "cell_type": "code",
   "execution_count": null,
   "id": "e775304b",
   "metadata": {},
   "outputs": [],
   "source": [
    "df_gt = df[df[\"prompt\"] == -1][\"path\"].unique()\n",
    "prompt_groups = [df[df[\"prompt\"] == i] for i in range(6)]\n",
    "prompt_h = df[df[\"prompt\"] == -1]\n",
    "\n",
    "birth_year_acc_matrix = np.zeros((6,6))\n",
    "\n",
    "for j, pg in enumerate(prompt_groups):\n",
    "    model_groups = [pg[pg[\"model\"] == models[m]] for m in range(6)]\n",
    "    for i, mod in enumerate(model_groups):\n",
    "        for _, row in mod.iterrows():\n",
    "            if row[\"path\"] in df_gt:\n",
    "                try:\n",
    "                    birth_year_acc_matrix[i, j] += int(row[\"birth_year\"] == prompt_h.loc[prompt_h[\"path\"] == row[\"path\"]][\"birth_year\"])\n",
    "                except:\n",
    "                    continue\n",
    "birth_year_accuracy = pd.DataFrame(birth_year_acc_matrix/len(df_gt), index=models, columns=prompts)\n",
    "make_heatmap(birth_year_accuracy, \"Birth year accuracy\")"
   ]
  },
  {
   "cell_type": "markdown",
   "id": "abb7a0d6",
   "metadata": {},
   "source": [
    "## Photo year accuracy"
   ]
  },
  {
   "cell_type": "code",
   "execution_count": null,
   "id": "5a05ef82",
   "metadata": {},
   "outputs": [],
   "source": [
    "df_gt = df[df[\"prompt\"] == -1][\"path\"].unique()\n",
    "prompt_groups = [df[df[\"prompt\"] == i] for i in range(6)]\n",
    "prompt_h = df[df[\"prompt\"] == -1]\n",
    "photo_year_acc_matrix = np.zeros((6,6))\n",
    "\n",
    "for j, pg in enumerate(prompt_groups):\n",
    "    model_groups = [pg[pg[\"model\"] == models[m]] for m in range(6)]\n",
    "    for i, mod in enumerate(model_groups):\n",
    "        for _, row in mod.iterrows():\n",
    "            if row[\"path\"] in df_gt:\n",
    "                try:\n",
    "                    prompt_row = prompt_h.loc[prompt_h[\"path\"] == row[\"path\"]]\n",
    "\n",
    "                    if prompt_row.empty:\n",
    "                        continue\n",
    "\n",
    "                    left_photo_year = prompt_row[\"left_photo_year\"].iloc[0]\n",
    "                    right_photo_year = prompt_row[\"right_photo_year\"].iloc[0]\n",
    "\n",
    "                    if pd.isna(left_photo_year) or pd.isna(right_photo_year) or left_photo_year is None or right_photo_year is None:\n",
    "                        if row[\"year_of_photo_int\"] is None or pd.isna(row[\"year_of_photo_int\"]):\n",
    "                            photo_year_acc_matrix[i, j] += 1\n",
    "                    else:\n",
    "                        if row[\"year_of_photo_int\"] is not None and not pd.isna(row[\"year_of_photo_int\"]):\n",
    "                            if row[\"year_of_photo_int\"] in range(int(left_photo_year), int(right_photo_year) + 1):\n",
    "                                photo_year_acc_matrix[i, j] += 1\n",
    "                except Exception as e:\n",
    "                    print(e)\n",
    "\n",
    "                    continue\n",
    "\n",
    "\n",
    "photo_year_accuracy = pd.DataFrame(photo_year_acc_matrix/len(df_gt), index=models, columns=prompts)\n",
    "\n",
    "make_heatmap(photo_year_accuracy, \"Photo year acuracy\")\n"
   ]
  },
  {
   "cell_type": "markdown",
   "id": "edf85df2",
   "metadata": {},
   "source": [
    "## Age accuracy - all samples"
   ]
  },
  {
   "cell_type": "code",
   "execution_count": null,
   "id": "59e2b792",
   "metadata": {},
   "outputs": [],
   "source": [
    "def is_range_within(inner_start, inner_end, outer_start, outer_end):\n",
    "    if((inner_start is None or pd.isna(inner_start) or\n",
    "       inner_end   is None  or pd.isna(inner_end)) and (\n",
    "       outer_start is None  or pd.isna(outer_start) or\n",
    "       outer_end   is None  or pd.isna(outer_end))):\n",
    "        return 1\n",
    "    elif (inner_start is None or pd.isna(inner_start) or\n",
    "       inner_end   is None    or pd.isna(inner_end) or \n",
    "       outer_start is None    or pd.isna(outer_start) or\n",
    "       outer_end   is None    or pd.isna(outer_end)):\n",
    "        return 0\n",
    "    else:\n",
    "        return outer_start <= inner_start and inner_end <= outer_end\n",
    "\n",
    "\n",
    "        \n",
    "df_gt = df[df[\"prompt\"] == -1][\"path\"].unique()\n",
    "prompt_groups = [df[df[\"prompt\"] == i] for i in range(6)]\n",
    "prompt_h = df[df[\"prompt\"] == -1]\n",
    "age_acc_matrix = np.zeros((6,6))\n",
    "\n",
    "for j, pg in enumerate(prompt_groups):\n",
    "    model_groups = [pg[pg[\"model\"] == models[m]] for m in range(6)]\n",
    "    for i, mod in enumerate(model_groups):\n",
    "        print(j, i)\n",
    "        for _, row in mod.iterrows():\n",
    "            if row[\"path\"] in df_gt:\n",
    "                try:\n",
    "                    prompt_row = prompt_h.loc[prompt_h[\"path\"] == row[\"path\"]]\n",
    "\n",
    "                    if prompt_row.empty:\n",
    "                        continue\n",
    "\n",
    "                    left_age = prompt_row[\"min_age\"].iloc[0]\n",
    "                    right_age = prompt_row[\"max_age\"].iloc[0]\n",
    "\n",
    "                    age_acc_matrix[i, j] += is_range_within(row[\"min_age\"], row[\"max_age\"], left_age, right_age)\n",
    "\n",
    "                except Exception as e:\n",
    "                    print(e)\n",
    "\n",
    "                    continue\n",
    "\n",
    "\n",
    "age_accuracy = pd.DataFrame(age_acc_matrix/len(df_gt), index=models, columns=prompts)\n",
    "\n",
    "make_heatmap(age_accuracy, \"Age accuracy - all samples\")"
   ]
  },
  {
   "cell_type": "markdown",
   "id": "0726f107",
   "metadata": {},
   "source": [
    "## Age accuracy - only confident"
   ]
  },
  {
   "cell_type": "code",
   "execution_count": null,
   "id": "a55e8f52",
   "metadata": {},
   "outputs": [],
   "source": [
    "conf_df = df[df[\"can_determine\"] == True]\n",
    "df_gt = get_human_paths(conf_df)\n",
    "prompt_groups = get_prompt_groups(conf_df)\n",
    "prompt_h = get_ground_truth(conf_df)\n",
    "age_acc_conf_matrix = np.zeros((6,6))\n",
    "count_mat = np.zeros((6,6))\n",
    "for j, pg in enumerate(prompt_groups):\n",
    "    model_groups = [pg[pg[\"model\"] == models[m]] for m in range(6)]\n",
    "    for i, mod in enumerate(model_groups):\n",
    "        print(j, i)\n",
    "        for _, row in mod.iterrows():\n",
    "            if row[\"path\"] in df_gt:\n",
    "                count_mat[i, j] += 1\n",
    "                try:\n",
    "                    prompt_row = prompt_h.loc[prompt_h[\"path\"] == row[\"path\"]]\n",
    "\n",
    "                    if prompt_row.empty:\n",
    "                        continue\n",
    "\n",
    "                    left_age = prompt_row[\"min_age\"].iloc[0]\n",
    "                    right_age = prompt_row[\"max_age\"].iloc[0]\n",
    "\n",
    "                    age_acc_conf_matrix[i, j] += is_range_within(row[\"min_age\"], row[\"max_age\"], left_age, right_age)\n",
    "\n",
    "                except Exception as e:\n",
    "                    print(e)\n",
    "\n",
    "                    continue\n",
    "\n",
    "conf_mat_acc = age_acc_conf_matrix/count_mat\n",
    "\n",
    "age_acc_conf = pd.DataFrame(conf_mat_acc, index=models, columns=prompts)\n",
    "\n",
    "make_heatmap(age_acc_conf, \"Age accuracy - only confident\")"
   ]
  },
  {
   "cell_type": "markdown",
   "id": "bd7dfd26",
   "metadata": {},
   "source": [
    "## Age accuracy - only confident, determinable"
   ]
  },
  {
   "cell_type": "code",
   "execution_count": null,
   "id": "dea8bd8e",
   "metadata": {},
   "outputs": [],
   "source": [
    "conf_df = df[(df[\"can_determine\"] == True) & (~pd.isna(df[\"min_age\"]))]\n",
    "df_gt = get_human_paths(conf_df)\n",
    "prompt_groups = get_prompt_groups(conf_df)\n",
    "prompt_h = get_ground_truth(conf_df)\n",
    "age_acc_conf_matrix_no_nan = np.zeros((6,6))\n",
    "count_mat = np.zeros((6,6))\n",
    "for j, pg in enumerate(prompt_groups):\n",
    "    model_groups = [pg[pg[\"model\"] == models[m]] for m in range(6)]\n",
    "    for i, mod in enumerate(model_groups):\n",
    "        #print(j, i)\n",
    "        for _, row in mod.iterrows():\n",
    "            if row[\"path\"] in df_gt:\n",
    "                count_mat[i, j] += 1\n",
    "                try:\n",
    "                    prompt_row = prompt_h.loc[prompt_h[\"path\"] == row[\"path\"]]\n",
    "\n",
    "                    if prompt_row.empty:\n",
    "                        continue\n",
    "\n",
    "                    left_age = prompt_row[\"min_age\"].iloc[0]\n",
    "                    right_age = prompt_row[\"max_age\"].iloc[0]\n",
    "                    right = is_range_within(row[\"min_age\"], row[\"max_age\"], left_age, right_age)\n",
    "                    age_acc_conf_matrix_no_nan[i, j] += right\n",
    "                except Exception as e:\n",
    "                    print(e)\n",
    "\n",
    "                    continue\n",
    "\n",
    "conf_mat_acc = age_acc_conf_matrix_no_nan/count_mat\n",
    "\n",
    "age_acc_conf_no_nan = pd.DataFrame(conf_mat_acc, index=models, columns=prompts)\n",
    "\n",
    "make_heatmap(age_acc_conf_no_nan, \"Age accuracy - only confident, determinable\")"
   ]
  },
  {
   "cell_type": "markdown",
   "id": "5b6b9a4d",
   "metadata": {},
   "source": [
    "## Comparisson heatmaps"
   ]
  },
  {
   "cell_type": "code",
   "execution_count": null,
   "id": "c30dc5ba",
   "metadata": {},
   "outputs": [],
   "source": [
    "make_comparisson_heatmap(age_acc_conf, age_acc_conf_no_nan, \"Age accuracy - confident\", \"Age accuracy - confident, determinable\")"
   ]
  },
  {
   "cell_type": "code",
   "execution_count": null,
   "id": "3f8dd455",
   "metadata": {},
   "outputs": [],
   "source": [
    "make_comparisson_heatmap(coverage*age_acc_conf, coverage*age_acc_conf_no_nan, \"Effective accuracy - confident\", \"Effective accuracy - confident and determinable\")\n",
    "\n"
   ]
  }
 ],
 "metadata": {
  "kernelspec": {
   "display_name": "base",
   "language": "python",
   "name": "python3"
  },
  "language_info": {
   "codemirror_mode": {
    "name": "ipython",
    "version": 3
   },
   "file_extension": ".py",
   "mimetype": "text/x-python",
   "name": "python",
   "nbconvert_exporter": "python",
   "pygments_lexer": "ipython3",
   "version": "3.11.4"
  }
 },
 "nbformat": 4,
 "nbformat_minor": 5
}
