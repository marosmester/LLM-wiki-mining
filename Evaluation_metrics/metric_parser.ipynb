{
 "cells": [
  {
   "cell_type": "markdown",
   "id": "8d8123d0",
   "metadata": {},
   "source": [
    "## Metric parser"
   ]
  },
  {
   "cell_type": "markdown",
   "id": "76047bdd",
   "metadata": {},
   "source": [
    "This notebook outputs a json, which can be used in metrics.ipynb script.\n",
    "\n",
    "Search for \"#SETUP\" to find cells which should be modified. (To add directory paths and output file name)"
   ]
  },
  {
   "cell_type": "code",
   "execution_count": null,
   "id": "b63b80fc",
   "metadata": {},
   "outputs": [],
   "source": [
    "import os\n",
    "import json\n",
    "import pandas as pd\n",
    "from dateutil import parser\n",
    "print(os.getcwd())"
   ]
  },
  {
   "cell_type": "code",
   "execution_count": null,
   "id": "6c49fa6e",
   "metadata": {},
   "outputs": [],
   "source": [
    "months = [\"January\",\n",
    "          \"February\",\n",
    "          \"March\",\n",
    "          \"April\",\n",
    "          \"May\",\n",
    "          \"June\",\n",
    "          \"July\",\n",
    "          \"August\",\n",
    "          \"Sepember\",\n",
    "          \"October\",\n",
    "          \"November\",\n",
    "          \"December\"]\n",
    "prompts = [f\"prompt_{i}\" for i in range(6)]\n",
    "models = [\"deepseek-r1\",\n",
    "          \"deepseek-r1-llama-8B\",\n",
    "          \"deepseek-r1-qwen-7B\",\n",
    "          \"deepseek-r1-qwen-14B\",\n",
    "          \"deepseek-r1-qwen-32B\",\n",
    "          \"llama3-3\"]"
   ]
  },
  {
   "cell_type": "code",
   "execution_count": null,
   "id": "95731ea5",
   "metadata": {},
   "outputs": [],
   "source": [
    "\n",
    "def extract_year(date_str):\n",
    "    try:\n",
    "        dt = parser.parse(date_str, fuzzy=True)\n",
    "        return dt.year\n",
    "    except ValueError:\n",
    "        return None"
   ]
  },
  {
   "cell_type": "code",
   "execution_count": null,
   "id": "1effcdae",
   "metadata": {},
   "outputs": [],
   "source": [
    "os.chdir(\"..\")\n",
    "os.getcwd()"
   ]
  },
  {
   "cell_type": "markdown",
   "id": "98642ece",
   "metadata": {},
   "source": [
    "## LLM output parser"
   ]
  },
  {
   "cell_type": "code",
   "execution_count": null,
   "id": "51121962",
   "metadata": {},
   "outputs": [],
   "source": [
    "#SETUP:\n",
    "root_dir = \"./minisubset03_LLM_output\" #Relative path to root directory of LLM output"
   ]
  },
  {
   "cell_type": "code",
   "execution_count": null,
   "id": "d7c40767",
   "metadata": {},
   "outputs": [],
   "source": [
    "\n",
    "data = []\n",
    "for i, person in enumerate(os.listdir(root_dir)):\n",
    "    person_path = os.path.join(root_dir, person)\n",
    "    print(f\"{i+1}/{len(os.listdir(root_dir))}\")\n",
    "    if os.path.isdir(person_path):\n",
    "        for filename in os.listdir(person_path):\n",
    "            if filename.endswith(\".json\"):\n",
    "                file_path = os.path.join(person_path, filename)\n",
    "                with open(file_path, \"r\", encoding=\"utf8\") as f:\n",
    "                    json_data = json.load(f)\n",
    "                    for image in json_data:\n",
    "                        image[\"name\"] = person\n",
    "                        image[\"path\"] = \"./\"+\"/\".join(image[\"path\"].split(\"/\")[2:])\n",
    "                        image[\"left_photo_year\"] = None\n",
    "                        image[\"right_photo_year\"] = None\n",
    "                        for i in range(6):\n",
    "                            if models[i] in filename:\n",
    "                                image[\"model\"] = models[i]\n",
    "                            if prompts[i] in filename:\n",
    "                                image[\"prompt\"] = i\n",
    "                    data.extend(json_data)\n",
    "\n",
    "df = pd.DataFrame(data)\n",
    "df[\"birth_year\"] = [extract_year(i) if i is not None else None for i in df[\"birthday\"]]\n",
    "df.head()"
   ]
  },
  {
   "cell_type": "markdown",
   "id": "f4f1e0f0",
   "metadata": {},
   "source": [
    "## Human annotation parser\n"
   ]
  },
  {
   "cell_type": "code",
   "execution_count": null,
   "id": "bfd434c4",
   "metadata": {},
   "outputs": [],
   "source": [
    "#SETUP\n",
    "human_root_dir = \"./minisubset03_annotated\" # Enter the relative path to the human annotation output."
   ]
  },
  {
   "cell_type": "code",
   "execution_count": null,
   "id": "940fb5f9",
   "metadata": {},
   "outputs": [],
   "source": [
    "data_h = []\n",
    "\n",
    "\n",
    "for i, person in enumerate(os.listdir(human_root_dir)):\n",
    "    person_path = os.path.join(human_root_dir, person)\n",
    "    #print(f\"{i+1}/{len(os.listdir(root_dir))}\")\n",
    "    if os.path.isdir(person_path):\n",
    "        file_path = os.path.join(person_path, \"annotation.json\")\n",
    "        try:\n",
    "            with open(file_path, \"r\", encoding=\"utf8\") as f:\n",
    "                json_data = json.load(f)\n",
    "            person_all_pics = []\n",
    "            for pic in json_data:\n",
    "                cur_person = dict()\n",
    "                cur_person[\"name\"] = person\n",
    "                if pic[\"birth_day\"] != \"\" and pic[\"birth_month\"] !=\"\" and pic[\"birth_year\"] !=\"\":\n",
    "                    cur_person[\"birthday\"] = f\"{pic['birth_day']} {months[int(pic['birth_month'])-1]} {pic['birth_year']}\"\n",
    "                    cur_person[\"birth_year\"] = pic[\"birth_year\"]\n",
    "                elif pic[\"birth_year\"] !=\"\":\n",
    "                    cur_person[\"birthday\"] = f\"{pic['birth_year']}\"\n",
    "                    cur_person[\"birth_year\"] = pic[\"birth_year\"]\n",
    "                else:\n",
    "                    cur_person[\"birthday\"] = None\n",
    "                    cur_person[\"birth_year\"] = None\n",
    "                cur_person[\"year_of_photo\"] = None\n",
    "                cur_person[\"year_of_photo_int\"] = None\n",
    "                cur_person[\"left_photo_year\"] =  pic['estimated_year_creation_left'] if pic['estimated_year_creation_left'] else None\n",
    "                cur_person[\"right_photo_year\"] = pic['estimated_year_creation_right'] if pic['estimated_year_creation_right'] else None\n",
    "                try:\n",
    "                    cur_person[\"can_determine\"] = pic[\"wiki_page_sufficient\"]\n",
    "                except:\n",
    "                    cur_person[\"can_determine\"] = None\n",
    "                cur_person[\"caption\"] = None\n",
    "                cur_person[\"path\"] = \"./\"+\"/\".join(pic[\"path\"].split(\"/\")[2:])\n",
    "                cur_person[\"prompt\"] = -1\n",
    "                cur_person[\"model\"] = \"human\"\n",
    "                person_all_pics.append(cur_person)\n",
    "            data_h.extend(person_all_pics)\n",
    "        except Exception as e:\n",
    "            print(e, pic['birth_month'])\n",
    "            continue\n",
    "                    \n",
    "df2 = pd.DataFrame(data_h)\n",
    "df2.head()"
   ]
  },
  {
   "cell_type": "markdown",
   "id": "95857145",
   "metadata": {},
   "source": [
    "## Generate output json for metrics.ipynb"
   ]
  },
  {
   "cell_type": "code",
   "execution_count": null,
   "id": "3bde63d6",
   "metadata": {},
   "outputs": [],
   "source": [
    "#SETUP\n",
    "output_file_name = 'final_annotation.json' # Change to the desired name of the output file"
   ]
  },
  {
   "cell_type": "code",
   "execution_count": null,
   "id": "5e27fbb8",
   "metadata": {},
   "outputs": [],
   "source": [
    "df_a = pd.concat([df, df2], ignore_index=True)\n",
    "df_a = df_a.where(pd.notna(df_a), None)\n",
    "df_a.to_json(output_file_name, orient='records')"
   ]
  }
 ],
 "metadata": {
  "kernelspec": {
   "display_name": "base",
   "language": "python",
   "name": "python3"
  },
  "language_info": {
   "codemirror_mode": {
    "name": "ipython",
    "version": 3
   },
   "file_extension": ".py",
   "mimetype": "text/x-python",
   "name": "python",
   "nbconvert_exporter": "python",
   "pygments_lexer": "ipython3",
   "version": "3.11.4"
  }
 },
 "nbformat": 4,
 "nbformat_minor": 5
}
